{
 "cells": [
  {
   "cell_type": "markdown",
   "id": "d468ec5f-c95b-4c3a-84dc-52d4154b8480",
   "metadata": {
    "tags": []
   },
   "source": [
    "# H1 Lawrence Peer Review Assignment"
   ]
  },
  {
   "cell_type": "markdown",
   "id": "e7bc4591-7607-40fb-b398-0994b3ac02ef",
   "metadata": {},
   "source": [
    "# Introduction: In this notebook, a peer review assignment is created by Lawrence."
   ]
  },
  {
   "cell_type": "markdown",
   "id": "7217e813-e82f-49ff-baa9-5461e7a10304",
   "metadata": {},
   "source": [
    "# Some of the popular languages that Data Scientists use are:\n",
    "1. Python\n",
    "2. R\n",
    "3. Java\n",
    "4. C"
   ]
  },
  {
   "cell_type": "markdown",
   "id": "4eeb247c-e0c7-4e15-92cd-d5ed719fc66e",
   "metadata": {},
   "source": [
    "# Some of the commonly used libraries used by Data Scientists include:\n",
    "1. Pandas\n",
    "2. NumPy\n",
    "3. matplotlib\n",
    "4. TensoeFlow"
   ]
  },
  {
   "cell_type": "markdown",
   "id": "f3325e28-3e4e-4fca-b517-8d1a4779063f",
   "metadata": {},
   "source": [
    "# Data Science Tools:\n",
    "1. Apache Spark\n",
    "2. Jupyter\n",
    "3. TensorFlow\n",
    "4. MATLAB\n",
    "5. SAS\n",
    "6. Tableau\n"
   ]
  },
  {
   "cell_type": "markdown",
   "id": "85f6b5f7-787d-479e-814e-a73692a975f5",
   "metadata": {},
   "source": [
    "# Below are a few examples of evaluating arithmetic expressions in Python."
   ]
  },
  {
   "cell_type": "code",
   "execution_count": 4,
   "id": "b7f7fa75-48dd-4390-8bb4-081a67fc4c71",
   "metadata": {
    "tags": []
   },
   "outputs": [],
   "source": [
    "# This a simple arithmetic expression to mutiply then add integers\n",
    "A = (3 * 4) + 5"
   ]
  },
  {
   "cell_type": "code",
   "execution_count": 5,
   "id": "db4005f3-faf0-425f-a99e-bf1d8c2e0c75",
   "metadata": {
    "tags": []
   },
   "outputs": [
    {
     "name": "stdout",
     "output_type": "stream",
     "text": [
      "17\n"
     ]
    }
   ],
   "source": [
    "print(A)"
   ]
  },
  {
   "cell_type": "code",
   "execution_count": 1,
   "id": "8ec847ef-d825-4f36-b8e5-5f878a88f61c",
   "metadata": {
    "tags": []
   },
   "outputs": [],
   "source": [
    "# This will convert 200 minutes to hours by diving by 60\n",
    "B = (200 / 60)"
   ]
  },
  {
   "cell_type": "code",
   "execution_count": 2,
   "id": "989973b9-10e5-4945-b66b-adb0d7c0d6fd",
   "metadata": {
    "tags": []
   },
   "outputs": [
    {
     "name": "stdout",
     "output_type": "stream",
     "text": [
      "3.3333333333333335\n"
     ]
    }
   ],
   "source": [
    "print(B)"
   ]
  },
  {
   "cell_type": "markdown",
   "id": "0e8a7304-dc46-4682-be3b-6b3abfd55e2d",
   "metadata": {},
   "source": [
    "# Objectives\n",
    ". List popular languages for Data Science\n",
    ". List popular tools used in Data Science\n",
    ". List some examples using Python\n",
    ". List popular libraries used in Data Science"
   ]
  },
  {
   "cell_type": "markdown",
   "id": "e7a2919e-fe93-4b9f-84d3-06ba78ba7504",
   "metadata": {},
   "source": [
    "# H2 Author \n",
    "Lawrence Liu"
   ]
  }
 ],
 "metadata": {
  "kernelspec": {
   "display_name": "Python",
   "language": "python",
   "name": "conda-env-python-py"
  },
  "language_info": {
   "codemirror_mode": {
    "name": "ipython",
    "version": 3
   },
   "file_extension": ".py",
   "mimetype": "text/x-python",
   "name": "python",
   "nbconvert_exporter": "python",
   "pygments_lexer": "ipython3",
   "version": "3.7.12"
  }
 },
 "nbformat": 4,
 "nbformat_minor": 5
}
